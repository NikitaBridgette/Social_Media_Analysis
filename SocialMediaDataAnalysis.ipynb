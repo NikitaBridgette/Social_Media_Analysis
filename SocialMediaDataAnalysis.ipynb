{
 "cells": [
  {
   "cell_type": "markdown",
   "id": "01030c30-8930-46d6-8aca-4989f43ed892",
   "metadata": {},
   "source": [
    "# Clean & Analyze Social Media"
   ]
  },
  {
   "cell_type": "markdown",
   "id": "12aafb3f-f5fa-4a3a-ae72-1eda82132312",
   "metadata": {},
   "source": [
    "## Introduction\n",
    "\n",
    "Social media has become a ubiquitous part of modern life, with platforms such as Instagram, Twitter, and Facebook serving as essential communication channels. Social media data sets are vast and complex, making analysis a challenging task for businesses and researchers alike. In this project, we explore a simulated social media, for example Tweets, data set to understand trends in likes across different categories.\n",
    "\n",
    "## Prerequisites\n",
    "\n",
    "To follow along with this project, you should have a basic understanding of Python programming and data analysis concepts. In addition, you may want to use the following packages in your Python environment:\n",
    "\n",
    "- pandas\n",
    "- Matplotlib\n",
    "- ...\n",
    "\n",
    "These packages should already be installed in Coursera's Jupyter Notebook environment, however if you'd like to install additional packages that are not included in this environment or are working off platform you can install additional packages using `!pip install packagename` within a notebook cell such as:\n",
    "\n",
    "- `!pip install pandas`\n",
    "- `!pip install matplotlib`\n",
    "\n",
    "## Project Scope\n",
    "\n",
    "The objective of this project is to analyze tweets (or other social media data) and gain insights into user engagement. We will explore the data set using visualization techniques to understand the distribution of likes across different categories. Finally, we will analyze the data to draw conclusions about the most popular categories and the overall engagement on the platform.\n",
    "\n",
    "## Step 1: Importing Required Libraries\n",
    "\n",
    "As the name suggests, the first step is to import all the necessary libraries that will be used in the project. In this case, we need pandas, numpy, matplotlib, seaborn, and random libraries.\n",
    "\n",
    "Pandas is a library used for data manipulation and analysis. Numpy is a library used for numerical computations. Matplotlib is a library used for data visualization. Seaborn is a library used for statistical data visualization. Random is a library used to generate random numbers."
   ]
  },
  {
   "cell_type": "code",
   "execution_count": 2,
   "id": "26fda2b9-afd9-421f-bcd3-744aa2f47435",
   "metadata": {},
   "outputs": [],
   "source": [
    "import pandas as pd\n",
    "import numpy as np\n",
    "import matplotlib.pyplot as plt\n",
    "import seaborn as sns\n",
    "%matplotlib inline\n",
    "\n",
    "import warnings\n",
    "warnings.filterwarnings('ignore')"
   ]
  },
  {
   "cell_type": "code",
   "execution_count": 3,
   "id": "7a0a6bbb-15a0-458c-b4fe-976d2fe9d65e",
   "metadata": {},
   "outputs": [
    {
     "data": {
      "text/html": [
       "<div>\n",
       "<style scoped>\n",
       "    .dataframe tbody tr th:only-of-type {\n",
       "        vertical-align: middle;\n",
       "    }\n",
       "\n",
       "    .dataframe tbody tr th {\n",
       "        vertical-align: top;\n",
       "    }\n",
       "\n",
       "    .dataframe thead th {\n",
       "        text-align: right;\n",
       "    }\n",
       "</style>\n",
       "<table border=\"1\" class=\"dataframe\">\n",
       "  <thead>\n",
       "    <tr style=\"text-align: right;\">\n",
       "      <th></th>\n",
       "      <th>Date</th>\n",
       "      <th>Category</th>\n",
       "      <th>Likes</th>\n",
       "      <th>Shares</th>\n",
       "      <th>Reposts</th>\n",
       "      <th>Comments</th>\n",
       "    </tr>\n",
       "  </thead>\n",
       "  <tbody>\n",
       "    <tr>\n",
       "      <th>0</th>\n",
       "      <td>2015-01-01</td>\n",
       "      <td>Culture</td>\n",
       "      <td>3457</td>\n",
       "      <td>815</td>\n",
       "      <td>193</td>\n",
       "      <td>7965</td>\n",
       "    </tr>\n",
       "    <tr>\n",
       "      <th>1</th>\n",
       "      <td>2015-01-01</td>\n",
       "      <td>Health</td>\n",
       "      <td>348</td>\n",
       "      <td>32</td>\n",
       "      <td>163</td>\n",
       "      <td>7740</td>\n",
       "    </tr>\n",
       "    <tr>\n",
       "      <th>2</th>\n",
       "      <td>2015-01-01</td>\n",
       "      <td>Health</td>\n",
       "      <td>3450</td>\n",
       "      <td>119</td>\n",
       "      <td>60</td>\n",
       "      <td>6723</td>\n",
       "    </tr>\n",
       "    <tr>\n",
       "      <th>3</th>\n",
       "      <td>2015-01-01</td>\n",
       "      <td>Health</td>\n",
       "      <td>9678</td>\n",
       "      <td>129</td>\n",
       "      <td>5</td>\n",
       "      <td>5255</td>\n",
       "    </tr>\n",
       "    <tr>\n",
       "      <th>4</th>\n",
       "      <td>2015-01-01</td>\n",
       "      <td>Food</td>\n",
       "      <td>5195</td>\n",
       "      <td>633</td>\n",
       "      <td>129</td>\n",
       "      <td>9021</td>\n",
       "    </tr>\n",
       "    <tr>\n",
       "      <th>...</th>\n",
       "      <td>...</td>\n",
       "      <td>...</td>\n",
       "      <td>...</td>\n",
       "      <td>...</td>\n",
       "      <td>...</td>\n",
       "      <td>...</td>\n",
       "    </tr>\n",
       "    <tr>\n",
       "      <th>89995</th>\n",
       "      <td>2023-12-30</td>\n",
       "      <td>Health</td>\n",
       "      <td>4618</td>\n",
       "      <td>398</td>\n",
       "      <td>103</td>\n",
       "      <td>9278</td>\n",
       "    </tr>\n",
       "    <tr>\n",
       "      <th>89996</th>\n",
       "      <td>2023-12-30</td>\n",
       "      <td>Family</td>\n",
       "      <td>2792</td>\n",
       "      <td>218</td>\n",
       "      <td>196</td>\n",
       "      <td>1587</td>\n",
       "    </tr>\n",
       "    <tr>\n",
       "      <th>89997</th>\n",
       "      <td>2023-12-30</td>\n",
       "      <td>Travel</td>\n",
       "      <td>1056</td>\n",
       "      <td>603</td>\n",
       "      <td>154</td>\n",
       "      <td>8975</td>\n",
       "    </tr>\n",
       "    <tr>\n",
       "      <th>89998</th>\n",
       "      <td>2023-12-30</td>\n",
       "      <td>Fashion</td>\n",
       "      <td>3263</td>\n",
       "      <td>838</td>\n",
       "      <td>46</td>\n",
       "      <td>1983</td>\n",
       "    </tr>\n",
       "    <tr>\n",
       "      <th>89999</th>\n",
       "      <td>2023-12-31</td>\n",
       "      <td>Health</td>\n",
       "      <td>8825</td>\n",
       "      <td>485</td>\n",
       "      <td>43</td>\n",
       "      <td>6698</td>\n",
       "    </tr>\n",
       "  </tbody>\n",
       "</table>\n",
       "<p>90000 rows × 6 columns</p>\n",
       "</div>"
      ],
      "text/plain": [
       "             Date Category  Likes  Shares  Reposts  Comments\n",
       "0      2015-01-01  Culture   3457     815      193      7965\n",
       "1      2015-01-01   Health    348      32      163      7740\n",
       "2      2015-01-01   Health   3450     119       60      6723\n",
       "3      2015-01-01   Health   9678     129        5      5255\n",
       "4      2015-01-01     Food   5195     633      129      9021\n",
       "...           ...      ...    ...     ...      ...       ...\n",
       "89995  2023-12-30   Health   4618     398      103      9278\n",
       "89996  2023-12-30   Family   2792     218      196      1587\n",
       "89997  2023-12-30   Travel   1056     603      154      8975\n",
       "89998  2023-12-30  Fashion   3263     838       46      1983\n",
       "89999  2023-12-31   Health   8825     485       43      6698\n",
       "\n",
       "[90000 rows x 6 columns]"
      ]
     },
     "execution_count": 3,
     "metadata": {},
     "output_type": "execute_result"
    }
   ],
   "source": [
    "df = pd.read_csv('Twitter_Analysis.csv')\n",
    "df"
   ]
  },
  {
   "cell_type": "code",
   "execution_count": 4,
   "id": "1a508386-3d06-48cf-95b3-87f339c8597f",
   "metadata": {},
   "outputs": [
    {
     "data": {
      "text/html": [
       "<div>\n",
       "<style scoped>\n",
       "    .dataframe tbody tr th:only-of-type {\n",
       "        vertical-align: middle;\n",
       "    }\n",
       "\n",
       "    .dataframe tbody tr th {\n",
       "        vertical-align: top;\n",
       "    }\n",
       "\n",
       "    .dataframe thead th {\n",
       "        text-align: right;\n",
       "    }\n",
       "</style>\n",
       "<table border=\"1\" class=\"dataframe\">\n",
       "  <thead>\n",
       "    <tr style=\"text-align: right;\">\n",
       "      <th></th>\n",
       "      <th>Likes</th>\n",
       "      <th>Shares</th>\n",
       "      <th>Reposts</th>\n",
       "      <th>Comments</th>\n",
       "    </tr>\n",
       "  </thead>\n",
       "  <tbody>\n",
       "    <tr>\n",
       "      <th>count</th>\n",
       "      <td>90000.000000</td>\n",
       "      <td>90000.000000</td>\n",
       "      <td>90000.000000</td>\n",
       "      <td>90000.000000</td>\n",
       "    </tr>\n",
       "    <tr>\n",
       "      <th>mean</th>\n",
       "      <td>4986.537789</td>\n",
       "      <td>500.090056</td>\n",
       "      <td>99.066789</td>\n",
       "      <td>5001.240967</td>\n",
       "    </tr>\n",
       "    <tr>\n",
       "      <th>std</th>\n",
       "      <td>2886.780782</td>\n",
       "      <td>287.712269</td>\n",
       "      <td>57.691723</td>\n",
       "      <td>2882.383784</td>\n",
       "    </tr>\n",
       "    <tr>\n",
       "      <th>min</th>\n",
       "      <td>0.000000</td>\n",
       "      <td>0.000000</td>\n",
       "      <td>0.000000</td>\n",
       "      <td>0.000000</td>\n",
       "    </tr>\n",
       "    <tr>\n",
       "      <th>25%</th>\n",
       "      <td>2487.750000</td>\n",
       "      <td>251.000000</td>\n",
       "      <td>49.000000</td>\n",
       "      <td>2514.000000</td>\n",
       "    </tr>\n",
       "    <tr>\n",
       "      <th>50%</th>\n",
       "      <td>4976.000000</td>\n",
       "      <td>499.000000</td>\n",
       "      <td>99.000000</td>\n",
       "      <td>5012.500000</td>\n",
       "    </tr>\n",
       "    <tr>\n",
       "      <th>75%</th>\n",
       "      <td>7479.000000</td>\n",
       "      <td>749.000000</td>\n",
       "      <td>149.000000</td>\n",
       "      <td>7498.250000</td>\n",
       "    </tr>\n",
       "    <tr>\n",
       "      <th>max</th>\n",
       "      <td>9999.000000</td>\n",
       "      <td>999.000000</td>\n",
       "      <td>199.000000</td>\n",
       "      <td>9999.000000</td>\n",
       "    </tr>\n",
       "  </tbody>\n",
       "</table>\n",
       "</div>"
      ],
      "text/plain": [
       "              Likes        Shares       Reposts      Comments\n",
       "count  90000.000000  90000.000000  90000.000000  90000.000000\n",
       "mean    4986.537789    500.090056     99.066789   5001.240967\n",
       "std     2886.780782    287.712269     57.691723   2882.383784\n",
       "min        0.000000      0.000000      0.000000      0.000000\n",
       "25%     2487.750000    251.000000     49.000000   2514.000000\n",
       "50%     4976.000000    499.000000     99.000000   5012.500000\n",
       "75%     7479.000000    749.000000    149.000000   7498.250000\n",
       "max     9999.000000    999.000000    199.000000   9999.000000"
      ]
     },
     "execution_count": 4,
     "metadata": {},
     "output_type": "execute_result"
    }
   ],
   "source": [
    "df.describe()"
   ]
  },
  {
   "cell_type": "markdown",
   "id": "bc423a26-ece3-4031-88aa-7eaba11d1723",
   "metadata": {},
   "source": [
    "# In Depth Analysis"
   ]
  },
  {
   "cell_type": "code",
   "execution_count": 5,
   "id": "8b70473f-50ba-4d1c-b3f5-f4a9d7062810",
   "metadata": {},
   "outputs": [
    {
     "data": {
      "text/plain": [
       "<bound method NDFrame.head of              Date Category  Likes  Shares  Reposts  Comments\n",
       "0      2015-01-01  Culture   3457     815      193      7965\n",
       "1      2015-01-01   Health    348      32      163      7740\n",
       "2      2015-01-01   Health   3450     119       60      6723\n",
       "3      2015-01-01   Health   9678     129        5      5255\n",
       "4      2015-01-01     Food   5195     633      129      9021\n",
       "...           ...      ...    ...     ...      ...       ...\n",
       "89995  2023-12-30   Health   4618     398      103      9278\n",
       "89996  2023-12-30   Family   2792     218      196      1587\n",
       "89997  2023-12-30   Travel   1056     603      154      8975\n",
       "89998  2023-12-30  Fashion   3263     838       46      1983\n",
       "89999  2023-12-31   Health   8825     485       43      6698\n",
       "\n",
       "[90000 rows x 6 columns]>"
      ]
     },
     "execution_count": 5,
     "metadata": {},
     "output_type": "execute_result"
    }
   ],
   "source": [
    "df.head"
   ]
  },
  {
   "cell_type": "code",
   "execution_count": 6,
   "id": "ce81262e-b15a-4cba-b7d7-9a5ab048c739",
   "metadata": {},
   "outputs": [
    {
     "data": {
      "text/plain": [
       "<bound method NDFrame.tail of              Date Category  Likes  Shares  Reposts  Comments\n",
       "0      2015-01-01  Culture   3457     815      193      7965\n",
       "1      2015-01-01   Health    348      32      163      7740\n",
       "2      2015-01-01   Health   3450     119       60      6723\n",
       "3      2015-01-01   Health   9678     129        5      5255\n",
       "4      2015-01-01     Food   5195     633      129      9021\n",
       "...           ...      ...    ...     ...      ...       ...\n",
       "89995  2023-12-30   Health   4618     398      103      9278\n",
       "89996  2023-12-30   Family   2792     218      196      1587\n",
       "89997  2023-12-30   Travel   1056     603      154      8975\n",
       "89998  2023-12-30  Fashion   3263     838       46      1983\n",
       "89999  2023-12-31   Health   8825     485       43      6698\n",
       "\n",
       "[90000 rows x 6 columns]>"
      ]
     },
     "execution_count": 6,
     "metadata": {},
     "output_type": "execute_result"
    }
   ],
   "source": [
    "df.tail"
   ]
  },
  {
   "cell_type": "code",
   "execution_count": 7,
   "id": "2c0254c7-5bf5-429b-a422-4e767e7eebee",
   "metadata": {},
   "outputs": [
    {
     "data": {
      "text/plain": [
       "Date        object\n",
       "Category    object\n",
       "Likes        int64\n",
       "Shares       int64\n",
       "Reposts      int64\n",
       "Comments     int64\n",
       "dtype: object"
      ]
     },
     "execution_count": 7,
     "metadata": {},
     "output_type": "execute_result"
    }
   ],
   "source": [
    "df.dtypes"
   ]
  },
  {
   "cell_type": "code",
   "execution_count": 25,
   "id": "3c6ec755-3ca3-44bb-a025-8c649065ea73",
   "metadata": {},
   "outputs": [],
   "source": [
    "df['Date'] = pd.to_datetime(df['Date'], errors='coerce')"
   ]
  },
  {
   "cell_type": "code",
   "execution_count": 27,
   "id": "1fd95cb5-9f0e-434b-9f0e-4e9e4147b817",
   "metadata": {},
   "outputs": [],
   "source": [
    "df['Category'] = df['Category'].astype('category')"
   ]
  },
  {
   "cell_type": "code",
   "execution_count": 9,
   "id": "8685d553-82fe-4f54-a0f3-3cbdc683bd2a",
   "metadata": {},
   "outputs": [
    {
     "data": {
      "text/html": [
       "<div>\n",
       "<style scoped>\n",
       "    .dataframe tbody tr th:only-of-type {\n",
       "        vertical-align: middle;\n",
       "    }\n",
       "\n",
       "    .dataframe tbody tr th {\n",
       "        vertical-align: top;\n",
       "    }\n",
       "\n",
       "    .dataframe thead th {\n",
       "        text-align: right;\n",
       "    }\n",
       "</style>\n",
       "<table border=\"1\" class=\"dataframe\">\n",
       "  <thead>\n",
       "    <tr style=\"text-align: right;\">\n",
       "      <th></th>\n",
       "      <th>Likes</th>\n",
       "      <th>Shares</th>\n",
       "      <th>Reposts</th>\n",
       "      <th>Comments</th>\n",
       "    </tr>\n",
       "  </thead>\n",
       "  <tbody>\n",
       "    <tr>\n",
       "      <th>Likes</th>\n",
       "      <td>1.000000</td>\n",
       "      <td>0.003830</td>\n",
       "      <td>-0.000927</td>\n",
       "      <td>0.003539</td>\n",
       "    </tr>\n",
       "    <tr>\n",
       "      <th>Shares</th>\n",
       "      <td>0.003830</td>\n",
       "      <td>1.000000</td>\n",
       "      <td>0.001964</td>\n",
       "      <td>0.000217</td>\n",
       "    </tr>\n",
       "    <tr>\n",
       "      <th>Reposts</th>\n",
       "      <td>-0.000927</td>\n",
       "      <td>0.001964</td>\n",
       "      <td>1.000000</td>\n",
       "      <td>-0.001729</td>\n",
       "    </tr>\n",
       "    <tr>\n",
       "      <th>Comments</th>\n",
       "      <td>0.003539</td>\n",
       "      <td>0.000217</td>\n",
       "      <td>-0.001729</td>\n",
       "      <td>1.000000</td>\n",
       "    </tr>\n",
       "  </tbody>\n",
       "</table>\n",
       "</div>"
      ],
      "text/plain": [
       "             Likes    Shares   Reposts  Comments\n",
       "Likes     1.000000  0.003830 -0.000927  0.003539\n",
       "Shares    0.003830  1.000000  0.001964  0.000217\n",
       "Reposts  -0.000927  0.001964  1.000000 -0.001729\n",
       "Comments  0.003539  0.000217 -0.001729  1.000000"
      ]
     },
     "execution_count": 9,
     "metadata": {},
     "output_type": "execute_result"
    }
   ],
   "source": [
    "df_numeric = df.select_dtypes(include='number')\n",
    "df_numeric.corr()"
   ]
  },
  {
   "cell_type": "code",
   "execution_count": 11,
   "id": "8fc16caf-219f-4b79-8e91-1f4fd77c090f",
   "metadata": {},
   "outputs": [
    {
     "data": {
      "text/plain": [
       "Index(['Likes', 'Shares', 'Reposts', 'Comments'], dtype='object')"
      ]
     },
     "execution_count": 11,
     "metadata": {},
     "output_type": "execute_result"
    }
   ],
   "source": [
    "numeric_features = df.select_dtypes(include=[np.int64])\n",
    "\n",
    "numeric_features.columns"
   ]
  },
  {
   "cell_type": "code",
   "execution_count": 12,
   "id": "a32443ca-4de1-4408-be43-1143aacd03f3",
   "metadata": {},
   "outputs": [
    {
     "data": {
      "text/plain": [
       "Index(['Date', 'Category'], dtype='object')"
      ]
     },
     "execution_count": 12,
     "metadata": {},
     "output_type": "execute_result"
    }
   ],
   "source": [
    "categorical_features = df.select_dtypes(include=[object])\n",
    "\n",
    "categorical_features.columns"
   ]
  },
  {
   "cell_type": "code",
   "execution_count": 13,
   "id": "02e48b4f-dcda-4ff7-9faf-18fe41cccaa2",
   "metadata": {},
   "outputs": [
    {
     "data": {
      "text/plain": [
       "<bound method DataFrame.skew of              Date Category  Likes  Shares  Reposts  Comments\n",
       "0      2015-01-01  Culture   3457     815      193      7965\n",
       "1      2015-01-01   Health    348      32      163      7740\n",
       "2      2015-01-01   Health   3450     119       60      6723\n",
       "3      2015-01-01   Health   9678     129        5      5255\n",
       "4      2015-01-01     Food   5195     633      129      9021\n",
       "...           ...      ...    ...     ...      ...       ...\n",
       "89995  2023-12-30   Health   4618     398      103      9278\n",
       "89996  2023-12-30   Family   2792     218      196      1587\n",
       "89997  2023-12-30   Travel   1056     603      154      8975\n",
       "89998  2023-12-30  Fashion   3263     838       46      1983\n",
       "89999  2023-12-31   Health   8825     485       43      6698\n",
       "\n",
       "[90000 rows x 6 columns]>"
      ]
     },
     "execution_count": 13,
     "metadata": {},
     "output_type": "execute_result"
    }
   ],
   "source": [
    "df.skew"
   ]
  },
  {
   "cell_type": "code",
   "execution_count": 14,
   "id": "1e1b5849-87d5-4a39-8ae8-55f2a4e1d405",
   "metadata": {},
   "outputs": [
    {
     "data": {
      "text/html": [
       "<div>\n",
       "<style scoped>\n",
       "    .dataframe tbody tr th:only-of-type {\n",
       "        vertical-align: middle;\n",
       "    }\n",
       "\n",
       "    .dataframe tbody tr th {\n",
       "        vertical-align: top;\n",
       "    }\n",
       "\n",
       "    .dataframe thead th {\n",
       "        text-align: right;\n",
       "    }\n",
       "</style>\n",
       "<table border=\"1\" class=\"dataframe\">\n",
       "  <thead>\n",
       "    <tr style=\"text-align: right;\">\n",
       "      <th></th>\n",
       "      <th>Date</th>\n",
       "      <th>Category</th>\n",
       "    </tr>\n",
       "  </thead>\n",
       "  <tbody>\n",
       "    <tr>\n",
       "      <th>count</th>\n",
       "      <td>90000</td>\n",
       "      <td>90000</td>\n",
       "    </tr>\n",
       "    <tr>\n",
       "      <th>unique</th>\n",
       "      <td>3287</td>\n",
       "      <td>8</td>\n",
       "    </tr>\n",
       "    <tr>\n",
       "      <th>top</th>\n",
       "      <td>2015-01-01</td>\n",
       "      <td>Food</td>\n",
       "    </tr>\n",
       "    <tr>\n",
       "      <th>freq</th>\n",
       "      <td>28</td>\n",
       "      <td>11400</td>\n",
       "    </tr>\n",
       "  </tbody>\n",
       "</table>\n",
       "</div>"
      ],
      "text/plain": [
       "              Date Category\n",
       "count        90000    90000\n",
       "unique        3287        8\n",
       "top     2015-01-01     Food\n",
       "freq            28    11400"
      ]
     },
     "execution_count": 14,
     "metadata": {},
     "output_type": "execute_result"
    }
   ],
   "source": [
    "df.describe(include=['object'])"
   ]
  },
  {
   "cell_type": "code",
   "execution_count": 15,
   "id": "28fabd1a-e22b-4c8b-96a5-7e29f59f6b5a",
   "metadata": {},
   "outputs": [
    {
     "data": {
      "text/html": [
       "<div>\n",
       "<style scoped>\n",
       "    .dataframe tbody tr th:only-of-type {\n",
       "        vertical-align: middle;\n",
       "    }\n",
       "\n",
       "    .dataframe tbody tr th {\n",
       "        vertical-align: top;\n",
       "    }\n",
       "\n",
       "    .dataframe thead th {\n",
       "        text-align: right;\n",
       "    }\n",
       "</style>\n",
       "<table border=\"1\" class=\"dataframe\">\n",
       "  <thead>\n",
       "    <tr style=\"text-align: right;\">\n",
       "      <th></th>\n",
       "      <th>Likes</th>\n",
       "      <th>Shares</th>\n",
       "      <th>Reposts</th>\n",
       "      <th>Comments</th>\n",
       "    </tr>\n",
       "  </thead>\n",
       "  <tbody>\n",
       "    <tr>\n",
       "      <th>count</th>\n",
       "      <td>90000.000000</td>\n",
       "      <td>90000.000000</td>\n",
       "      <td>90000.000000</td>\n",
       "      <td>90000.000000</td>\n",
       "    </tr>\n",
       "    <tr>\n",
       "      <th>mean</th>\n",
       "      <td>4986.537789</td>\n",
       "      <td>500.090056</td>\n",
       "      <td>99.066789</td>\n",
       "      <td>5001.240967</td>\n",
       "    </tr>\n",
       "    <tr>\n",
       "      <th>std</th>\n",
       "      <td>2886.780782</td>\n",
       "      <td>287.712269</td>\n",
       "      <td>57.691723</td>\n",
       "      <td>2882.383784</td>\n",
       "    </tr>\n",
       "    <tr>\n",
       "      <th>min</th>\n",
       "      <td>0.000000</td>\n",
       "      <td>0.000000</td>\n",
       "      <td>0.000000</td>\n",
       "      <td>0.000000</td>\n",
       "    </tr>\n",
       "    <tr>\n",
       "      <th>25%</th>\n",
       "      <td>2487.750000</td>\n",
       "      <td>251.000000</td>\n",
       "      <td>49.000000</td>\n",
       "      <td>2514.000000</td>\n",
       "    </tr>\n",
       "    <tr>\n",
       "      <th>50%</th>\n",
       "      <td>4976.000000</td>\n",
       "      <td>499.000000</td>\n",
       "      <td>99.000000</td>\n",
       "      <td>5012.500000</td>\n",
       "    </tr>\n",
       "    <tr>\n",
       "      <th>75%</th>\n",
       "      <td>7479.000000</td>\n",
       "      <td>749.000000</td>\n",
       "      <td>149.000000</td>\n",
       "      <td>7498.250000</td>\n",
       "    </tr>\n",
       "    <tr>\n",
       "      <th>max</th>\n",
       "      <td>9999.000000</td>\n",
       "      <td>999.000000</td>\n",
       "      <td>199.000000</td>\n",
       "      <td>9999.000000</td>\n",
       "    </tr>\n",
       "  </tbody>\n",
       "</table>\n",
       "</div>"
      ],
      "text/plain": [
       "              Likes        Shares       Reposts      Comments\n",
       "count  90000.000000  90000.000000  90000.000000  90000.000000\n",
       "mean    4986.537789    500.090056     99.066789   5001.240967\n",
       "std     2886.780782    287.712269     57.691723   2882.383784\n",
       "min        0.000000      0.000000      0.000000      0.000000\n",
       "25%     2487.750000    251.000000     49.000000   2514.000000\n",
       "50%     4976.000000    499.000000     99.000000   5012.500000\n",
       "75%     7479.000000    749.000000    149.000000   7498.250000\n",
       "max     9999.000000    999.000000    199.000000   9999.000000"
      ]
     },
     "execution_count": 15,
     "metadata": {},
     "output_type": "execute_result"
    }
   ],
   "source": [
    "df.describe(include=['int64'])"
   ]
  },
  {
   "cell_type": "markdown",
   "id": "030f51d0-4706-4436-ad68-f2540d6816a5",
   "metadata": {},
   "source": [
    "# Exploratory Data Analysis"
   ]
  },
  {
   "cell_type": "code",
   "execution_count": 16,
   "id": "ea384814-6474-420a-8751-977ab34c7a17",
   "metadata": {},
   "outputs": [
    {
     "data": {
      "text/plain": [
       "Category\n",
       "Food       11400\n",
       "Music      11326\n",
       "Culture    11307\n",
       "Fitness    11261\n",
       "Family     11240\n",
       "Travel     11238\n",
       "Fashion    11126\n",
       "Health     11102\n",
       "Name: count, dtype: int64"
      ]
     },
     "execution_count": 16,
     "metadata": {},
     "output_type": "execute_result"
    }
   ],
   "source": [
    "df['Category'].value_counts()"
   ]
  },
  {
   "cell_type": "code",
   "execution_count": 17,
   "id": "210aad65-5e8d-4562-91f9-87690d876800",
   "metadata": {},
   "outputs": [],
   "source": [
    "df_group = df[['Category','Likes','Reposts']]"
   ]
  },
  {
   "cell_type": "code",
   "execution_count": 18,
   "id": "44bf0928-a5f5-4606-b9f0-d15cb890fd8b",
   "metadata": {},
   "outputs": [
    {
     "data": {
      "text/html": [
       "<div>\n",
       "<style scoped>\n",
       "    .dataframe tbody tr th:only-of-type {\n",
       "        vertical-align: middle;\n",
       "    }\n",
       "\n",
       "    .dataframe tbody tr th {\n",
       "        vertical-align: top;\n",
       "    }\n",
       "\n",
       "    .dataframe thead th {\n",
       "        text-align: right;\n",
       "    }\n",
       "</style>\n",
       "<table border=\"1\" class=\"dataframe\">\n",
       "  <thead>\n",
       "    <tr style=\"text-align: right;\">\n",
       "      <th></th>\n",
       "      <th>Category</th>\n",
       "      <th>Likes</th>\n",
       "      <th>Reposts</th>\n",
       "    </tr>\n",
       "  </thead>\n",
       "  <tbody>\n",
       "    <tr>\n",
       "      <th>0</th>\n",
       "      <td>Culture</td>\n",
       "      <td>4986.899443</td>\n",
       "      <td>97.875829</td>\n",
       "    </tr>\n",
       "    <tr>\n",
       "      <th>1</th>\n",
       "      <td>Family</td>\n",
       "      <td>4986.717349</td>\n",
       "      <td>98.691103</td>\n",
       "    </tr>\n",
       "    <tr>\n",
       "      <th>2</th>\n",
       "      <td>Fashion</td>\n",
       "      <td>5032.319702</td>\n",
       "      <td>98.979687</td>\n",
       "    </tr>\n",
       "    <tr>\n",
       "      <th>3</th>\n",
       "      <td>Fitness</td>\n",
       "      <td>4987.716455</td>\n",
       "      <td>99.638842</td>\n",
       "    </tr>\n",
       "    <tr>\n",
       "      <th>4</th>\n",
       "      <td>Food</td>\n",
       "      <td>4985.353509</td>\n",
       "      <td>98.617368</td>\n",
       "    </tr>\n",
       "    <tr>\n",
       "      <th>5</th>\n",
       "      <td>Health</td>\n",
       "      <td>4935.008557</td>\n",
       "      <td>99.266078</td>\n",
       "    </tr>\n",
       "    <tr>\n",
       "      <th>6</th>\n",
       "      <td>Music</td>\n",
       "      <td>5018.132615</td>\n",
       "      <td>99.976956</td>\n",
       "    </tr>\n",
       "    <tr>\n",
       "      <th>7</th>\n",
       "      <td>Travel</td>\n",
       "      <td>4959.752358</td>\n",
       "      <td>99.495551</td>\n",
       "    </tr>\n",
       "  </tbody>\n",
       "</table>\n",
       "</div>"
      ],
      "text/plain": [
       "  Category        Likes    Reposts\n",
       "0  Culture  4986.899443  97.875829\n",
       "1   Family  4986.717349  98.691103\n",
       "2  Fashion  5032.319702  98.979687\n",
       "3  Fitness  4987.716455  99.638842\n",
       "4     Food  4985.353509  98.617368\n",
       "5   Health  4935.008557  99.266078\n",
       "6    Music  5018.132615  99.976956\n",
       "7   Travel  4959.752358  99.495551"
      ]
     },
     "execution_count": 18,
     "metadata": {},
     "output_type": "execute_result"
    }
   ],
   "source": [
    "df_group = df_group.groupby(['Category'],as_index=False).mean()\n",
    "df_group"
   ]
  },
  {
   "cell_type": "code",
   "execution_count": 19,
   "id": "f276432c-2d63-408c-af3e-d47bb888c0f2",
   "metadata": {},
   "outputs": [
    {
     "data": {
      "text/html": [
       "<div>\n",
       "<style scoped>\n",
       "    .dataframe tbody tr th:only-of-type {\n",
       "        vertical-align: middle;\n",
       "    }\n",
       "\n",
       "    .dataframe tbody tr th {\n",
       "        vertical-align: top;\n",
       "    }\n",
       "\n",
       "    .dataframe thead th {\n",
       "        text-align: right;\n",
       "    }\n",
       "</style>\n",
       "<table border=\"1\" class=\"dataframe\">\n",
       "  <thead>\n",
       "    <tr style=\"text-align: right;\">\n",
       "      <th></th>\n",
       "      <th>Category</th>\n",
       "      <th>Reposts</th>\n",
       "      <th>Likes</th>\n",
       "    </tr>\n",
       "  </thead>\n",
       "  <tbody>\n",
       "    <tr>\n",
       "      <th>0</th>\n",
       "      <td>Culture</td>\n",
       "      <td>0</td>\n",
       "      <td>4655.561644</td>\n",
       "    </tr>\n",
       "    <tr>\n",
       "      <th>1</th>\n",
       "      <td>Culture</td>\n",
       "      <td>1</td>\n",
       "      <td>4972.683333</td>\n",
       "    </tr>\n",
       "    <tr>\n",
       "      <th>2</th>\n",
       "      <td>Culture</td>\n",
       "      <td>2</td>\n",
       "      <td>4605.697368</td>\n",
       "    </tr>\n",
       "    <tr>\n",
       "      <th>3</th>\n",
       "      <td>Culture</td>\n",
       "      <td>3</td>\n",
       "      <td>5398.559322</td>\n",
       "    </tr>\n",
       "    <tr>\n",
       "      <th>4</th>\n",
       "      <td>Culture</td>\n",
       "      <td>4</td>\n",
       "      <td>4537.196970</td>\n",
       "    </tr>\n",
       "    <tr>\n",
       "      <th>...</th>\n",
       "      <td>...</td>\n",
       "      <td>...</td>\n",
       "      <td>...</td>\n",
       "    </tr>\n",
       "    <tr>\n",
       "      <th>1595</th>\n",
       "      <td>Travel</td>\n",
       "      <td>195</td>\n",
       "      <td>4943.927273</td>\n",
       "    </tr>\n",
       "    <tr>\n",
       "      <th>1596</th>\n",
       "      <td>Travel</td>\n",
       "      <td>196</td>\n",
       "      <td>5005.847222</td>\n",
       "    </tr>\n",
       "    <tr>\n",
       "      <th>1597</th>\n",
       "      <td>Travel</td>\n",
       "      <td>197</td>\n",
       "      <td>4997.031250</td>\n",
       "    </tr>\n",
       "    <tr>\n",
       "      <th>1598</th>\n",
       "      <td>Travel</td>\n",
       "      <td>198</td>\n",
       "      <td>4710.854545</td>\n",
       "    </tr>\n",
       "    <tr>\n",
       "      <th>1599</th>\n",
       "      <td>Travel</td>\n",
       "      <td>199</td>\n",
       "      <td>5184.895522</td>\n",
       "    </tr>\n",
       "  </tbody>\n",
       "</table>\n",
       "<p>1600 rows × 3 columns</p>\n",
       "</div>"
      ],
      "text/plain": [
       "     Category  Reposts        Likes\n",
       "0     Culture        0  4655.561644\n",
       "1     Culture        1  4972.683333\n",
       "2     Culture        2  4605.697368\n",
       "3     Culture        3  5398.559322\n",
       "4     Culture        4  4537.196970\n",
       "...       ...      ...          ...\n",
       "1595   Travel      195  4943.927273\n",
       "1596   Travel      196  5005.847222\n",
       "1597   Travel      197  4997.031250\n",
       "1598   Travel      198  4710.854545\n",
       "1599   Travel      199  5184.895522\n",
       "\n",
       "[1600 rows x 3 columns]"
      ]
     },
     "execution_count": 19,
     "metadata": {},
     "output_type": "execute_result"
    }
   ],
   "source": [
    "# grouping results\n",
    "df_gptest = df[['Category','Likes','Reposts']]\n",
    "grouped_test1 = df_gptest.groupby(['Category','Reposts'],as_index=False).mean()\n",
    "grouped_test1"
   ]
  },
  {
   "cell_type": "markdown",
   "id": "e43dc2a1-43c4-42d3-ae31-cfb3b82efb42",
   "metadata": {},
   "source": [
    "# Pearson Correlation helps in defining Linear Correlation between two variables."
   ]
  },
  {
   "cell_type": "code",
   "execution_count": 20,
   "id": "c8e9d0cc-78c2-4b50-9348-fdf4324ca2b8",
   "metadata": {},
   "outputs": [
    {
     "name": "stdout",
     "output_type": "stream",
     "text": [
      "The PearsonR between Likes and Likes is 1.0 with a P-value of P = 0.0\n",
      "Correlation between Likes and Likes is statistically significant..\n",
      "Coeff ~1.0 shows that the relationship is positive and very strong.\n",
      "\n",
      "The PearsonR between Shares and Likes is 0.0038 with a P-value of P = 0.2506\n",
      "Correlation between Shares and Likes is statistically not significant..\n",
      "Coefficient ~0.0038 shows that the relationship is positive and weak.\n",
      "\n",
      "The PearsonR between Reposts and Likes is -0.0009 with a P-value of P = 0.7809\n",
      "Correlation between Reposts and Likes is statistically not significant..\n",
      "Coefficient ~-0.0009 shows that the relationship is negative and weak.\n",
      "\n",
      "The PearsonR between Comments and Likes is 0.0035 with a P-value of P = 0.2884\n",
      "Correlation between Comments and Likes is statistically not significant..\n",
      "Coefficient ~0.0035 shows that the relationship is positive and weak.\n",
      "\n"
     ]
    }
   ],
   "source": [
    "from scipy import stats\n",
    "#Let's calculate the Pearson Correlation Coefficient and P-value of different variables.\n",
    "\n",
    "cols = ['Likes', 'Shares', 'Reposts', 'Comments']\n",
    "\n",
    "for col in cols:\n",
    "    pearson_coef, p_value = stats.pearsonr(df[col], df['Likes'])\n",
    "    print(\"The PearsonR between {} and Likes is {} with a P-value of P = {}\".format(\n",
    "          col, round(pearson_coef,4), round(p_value,4) ))\n",
    "\n",
    "    if p_value < 0.001:\n",
    "        print('Correlation between {} and Likes is statistically significant..'.format(col))\n",
    "    elif p_value < 0.05:\n",
    "        print('Correlation between {} and Likes is statistically moderate..'.format(col))\n",
    "    elif p_value < 0.1:\n",
    "        print('Correlation between {} and Likes is statistically weak..'.format(col))\n",
    "    else:\n",
    "        print('Correlation between {} and Likes is statistically not significant..'.format(col))\n",
    "\n",
    "    if pearson_coef > 0 :\n",
    "        if pearson_coef > 0.85:\n",
    "            print('Coeff ~{} shows that the relationship is positive and very strong.\\n'.format(round(pearson_coef,4)))\n",
    "        elif pearson_coef > 0.75 :\n",
    "            print('Coeff ~{} shows that the relationship is positive and quite strong.\\n'.format(round(pearson_coef,4)))\n",
    "        elif pearson_coef > 0.60:\n",
    "            print('Coeff ~{} shows that the relationship is positive and moderately strong.\\n'.format(round(pearson_coef,4)))\n",
    "        elif pearson_coef > 0.50 :\n",
    "            print('Coeff ~{} shows that the relationship is positive and only moderate.\\n'.format(round(pearson_coef,4)))\n",
    "        else:\n",
    "            print('Coefficient ~{} shows that the relationship is positive and weak.\\n'.format(round(pearson_coef,4)))\n",
    "    else:\n",
    "        if abs(pearson_coef) > 0.85:\n",
    "            print('Coeff ~{} shows that the relationship is negative and very strong.\\n'.format(round(pearson_coef,4)))\n",
    "        elif abs(pearson_coef) > 0.75 :\n",
    "            print('Coeff ~{} shows that the relationship is negative and quite strong.\\n'.format(round(pearson_coef,4)))\n",
    "        elif abs(pearson_coef) > 0.60:\n",
    "            print('Coeff ~{} shows that the relationship is negative and moderately strong.\\n'.format(round(pearson_coef,4)))\n",
    "        elif abs(pearson_coef) > 0.50 :\n",
    "            print('Coeff ~{} shows that the relationship is negative and only moderate.\\n'.format(round(pearson_coef,4)))\n",
    "        else:\n",
    "            print('Coefficient ~{} shows that the relationship is negative and weak.\\n'.format(round(pearson_coef,4)))\n",
    "\n",
    "     "
   ]
  },
  {
   "cell_type": "markdown",
   "id": "c6a66c87-9b32-4bf7-9934-b00e18b2529a",
   "metadata": {},
   "source": [
    "# Graphical Analysis"
   ]
  },
  {
   "cell_type": "code",
   "execution_count": 29,
   "id": "63204f51-bac9-48c3-a4c9-2494c2103cc0",
   "metadata": {},
   "outputs": [
    {
     "data": {
      "image/png": "[encoded data removed]",
      "text/plain": [
       "<Figure size 640x480 with 1 Axes>"
      ]
     },
     "metadata": {},
     "output_type": "display_data"
    }
   ],
   "source": [
    "import seaborn as sns\n",
    "import matplotlib.pyplot as plt\n",
    "\n",
    "sns.histplot(df.skew(numeric_only=True), kde=True, color='blue')\n",
    "plt.xlabel('Skewness')\n",
    "plt.title('Distribution of Skewness Across Numeric Columns')\n",
    "plt.show()\n"
   ]
  },
  {
   "cell_type": "markdown",
   "id": "46968078-ad18-49e8-9645-c6919851af54",
   "metadata": {},
   "source": [
    "# A distplot infers the distribution of a variable."
   ]
  },
  {
   "cell_type": "code",
   "execution_count": 30,
   "id": "a3dc84ff-f221-4f8b-83fc-c9618d07d695",
   "metadata": {},
   "outputs": [
    {
     "data": {
      "image/png": "[encoded data removed]",
      "text/plain": [
       "<Figure size 500x500 with 1 Axes>"
      ]
     },
     "metadata": {},
     "output_type": "display_data"
    }
   ],
   "source": [
    "import seaborn as sns\n",
    "import matplotlib.pyplot as plt\n",
    "\n",
    "plt.figure(figsize=(5, 5))\n",
    "sns.histplot(df.kurt(numeric_only=True), color='r', kde=True)\n",
    "plt.xlabel(\"Kurtosis\")\n",
    "plt.title(\"Kurtosis Distribution\")\n",
    "plt.show()\n"
   ]
  },
  {
   "cell_type": "markdown",
   "id": "231bac17-032f-4e6b-82d7-5e0dcaa08568",
   "metadata": {},
   "source": [
    "# A heatmap shows the variation of a continuous value across two dimensions."
   ]
  },
  {
   "cell_type": "code",
   "execution_count": 31,
   "id": "8acff0da-b5aa-4679-a26d-514d4cafe5bb",
   "metadata": {},
   "outputs": [
    {
     "name": "stdout",
     "output_type": "stream",
     "text": [
      "Index(['Likes', 'Shares', 'Comments', 'Reposts'], dtype='object')\n"
     ]
    },
    {
     "data": {
      "text/plain": [
       "<Axes: >"
      ]
     },
     "execution_count": 31,
     "metadata": {},
     "output_type": "execute_result"
    },
    {
     "data": {
      "image/png": "[encoded data removed]",
      "text/plain": [
       "<Figure size 1400x1200 with 2 Axes>"
      ]
     },
     "metadata": {},
     "output_type": "display_data"
    }
   ],
   "source": [
    "k= 11\n",
    "correlation = numeric_features.corr()\n",
    "cols = correlation.nlargest(k,'Likes')['Likes'].index\n",
    "print(cols)\n",
    "cm = np.corrcoef(df[cols].values.T)\n",
    "f , ax = plt.subplots(figsize = (14,12))\n",
    "sns.heatmap(cm, vmax=.8, linewidths=0.01,square=True,annot=True,cmap='viridis',\n",
    "            linecolor=\"white\",xticklabels = cols.values ,annot_kws = {'size':12},yticklabels = cols.values)"
   ]
  },
  {
   "cell_type": "code",
   "execution_count": null,
   "id": "6da2dac3-8744-430e-843f-bf79d567d267",
   "metadata": {},
   "outputs": [],
   "source": []
  }
 ],
 "metadata": {
  "kernelspec": {
   "display_name": "Python 3 (ipykernel)",
   "language": "python",
   "name": "python3"
  },
  "language_info": {
   "codemirror_mode": {
    "name": "ipython",
    "version": 3
   },
   "file_extension": ".py",
   "mimetype": "text/x-python",
   "name": "python",
   "nbconvert_exporter": "python",
   "pygments_lexer": "ipython3",
   "version": "3.12.2"
  }
 },
 "nbformat": 4,
 "nbformat_minor": 5
}
